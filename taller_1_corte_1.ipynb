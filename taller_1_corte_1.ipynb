{
  "nbformat": 4,
  "nbformat_minor": 0,
  "metadata": {
    "colab": {
      "provenance": []
    },
    "kernelspec": {
      "name": "python3",
      "display_name": "Python 3"
    },
    "language_info": {
      "name": "python"
    }
  },
  "cells": [
    {
      "cell_type": "markdown",
      "source": [
        "MARIA PAULA OVIEDO SALDAÑA\n",
        "\n",
        "MIGUEL ANGEL VALERO FERNANDEZ\n",
        "\n",
        "DAVIS VALENCIA GOMEZ"
      ],
      "metadata": {
        "id": "H5AuhAidauyL"
      }
    },
    {
      "cell_type": "markdown",
      "source": [
        "1.Define dos variables, nombre y edad, e imprime un mensaje de saludo que las utilice.\n",
        "\n"
      ],
      "metadata": {
        "id": "l4Jr26o6KcJK"
      }
    },
    {
      "cell_type": "code",
      "execution_count": null,
      "metadata": {
        "colab": {
          "base_uri": "https://localhost:8080/"
        },
        "id": "ubeEblKXEa-L",
        "outputId": "86463484-cee1-4e5a-e433-12f491f60144"
      },
      "outputs": [
        {
          "output_type": "stream",
          "name": "stdout",
          "text": [
            "Hola Juan, veo que tienes 25 años. ¡Es un placer conocerte!\n"
          ]
        }
      ],
      "source": [
        "# Saludo\n",
        "nombre = \"Juan\"\n",
        "edad = 25\n",
        "# Mensaje de saludo\n",
        "print(f\"Hola {nombre}, veo que tienes {edad} años. ¡Es un placer conocerte!\")\n"
      ]
    },
    {
      "cell_type": "markdown",
      "source": [
        "2.Calcula y muestra el área de un círculo. Pide al usuario que ingrese el radio."
      ],
      "metadata": {
        "id": "YZfIEFgIKhgL"
      }
    },
    {
      "cell_type": "code",
      "source": [
        "import math\n",
        "#ingrese el radio del circulo\n",
        "radio = float(input(\"Por favor, ingresa el radio del círculo: \"))\n",
        "print(f\"El área del círculo con radio {radio} es {area}\")"
      ],
      "metadata": {
        "colab": {
          "base_uri": "https://localhost:8080/"
        },
        "id": "WDV_Vch0F4CQ",
        "outputId": "b8a1a777-5ec6-4741-fc44-cbf39087e07e"
      },
      "execution_count": null,
      "outputs": [
        {
          "output_type": "stream",
          "name": "stdout",
          "text": [
            "Por favor, ingresa el radio del círculo: 2\n",
            "El área del círculo con radio 2.0 es 12.566370614359172\n"
          ]
        }
      ]
    },
    {
      "cell_type": "markdown",
      "source": [
        "3.Escribe una función calcular_promedio que tome una lista de números como argumento y devuelva su promedio.\n",
        "\n"
      ],
      "metadata": {
        "id": "oqawhpjfKtFG"
      }
    },
    {
      "cell_type": "code",
      "source": [
        "def calcular_promedio(lista_numeros):\n",
        "    if len(lista_numeros) == 0:\n",
        "        return 0\n",
        "    else:\n",
        "        suma = sum(lista_numeros)\n",
        "        promedio = suma / len(lista_numeros)\n",
        "        return promedio\n",
        "\n",
        "# Ejercicio de resultado\n",
        "numeros = [5, 10, 15, 20]\n",
        "promedio = calcular_promedio(numeros)\n",
        "print(f\"El promedio de la lista {numeros} es {promedio}\")"
      ],
      "metadata": {
        "colab": {
          "base_uri": "https://localhost:8080/"
        },
        "id": "Hy2xPemwG0uO",
        "outputId": "958102cd-6f54-4b93-87b6-0d2dc56122a4"
      },
      "execution_count": null,
      "outputs": [
        {
          "output_type": "stream",
          "name": "stdout",
          "text": [
            "El promedio de la lista [5, 10, 15, 20] es 12.5\n"
          ]
        }
      ]
    },
    {
      "cell_type": "markdown",
      "source": [
        "4.Crea una lista de números y utiliza un bucle for para mostrar los números mayores que 10.\n",
        "\n"
      ],
      "metadata": {
        "id": "94w7hCywK1Jc"
      }
    },
    {
      "cell_type": "code",
      "source": [
        "numeros = [8, 12, 5, 17, 10, 6, 15,20,18,17,6,3,14]\n",
        "for numero in numeros:\n",
        "    if numero > 10:\n",
        "        print(numero)"
      ],
      "metadata": {
        "colab": {
          "base_uri": "https://localhost:8080/"
        },
        "id": "imY6I6LmI5Bw",
        "outputId": "ccde9766-69ce-4d79-cbb5-665199474c40"
      },
      "execution_count": null,
      "outputs": [
        {
          "output_type": "stream",
          "name": "stdout",
          "text": [
            "12\n",
            "17\n",
            "15\n",
            "20\n",
            "18\n",
            "17\n",
            "14\n"
          ]
        }
      ]
    },
    {
      "cell_type": "markdown",
      "source": [
        "5.Define un diccionario que almacene los precios de tres productos diferentes. Pide al usuario que ingrese el nombre de un producto y muestra su precio.\n",
        "\n"
      ],
      "metadata": {
        "id": "GnIN39z5K6oM"
      }
    },
    {
      "cell_type": "code",
      "source": [
        "productos = {\n",
        "    \"manzana\": 10.99,\n",
        "    \"uva\": 15.99,\n",
        "    \"pera\": 20.99\n",
        "}\n",
        "\n",
        "nombre_fruta = input(\"Ingrese el nombre de una opción de fruta: \")\n",
        "\n",
        "if nombre_fruta in productos:\n",
        "    precio = productos[nombre_fruta]\n",
        "    print(f\"El precio de {nombre_fruta} es {precio}\")\n",
        "else:\n",
        "    print(\"El producto no se encuentra en el diccionario\")"
      ],
      "metadata": {
        "colab": {
          "base_uri": "https://localhost:8080/"
        },
        "id": "OS9AsBLqJ0QN",
        "outputId": "c779f7db-6b33-4bef-d38e-223ee526cf0c"
      },
      "execution_count": null,
      "outputs": [
        {
          "output_type": "stream",
          "name": "stdout",
          "text": [
            "Ingrese el nombre de una opción de fruta: uva\n",
            "El precio de uva es 15.99\n"
          ]
        }
      ]
    },
    {
      "cell_type": "markdown",
      "source": [
        "6.Escribe una función es_primo que determine si un número dado es primo o no.\n",
        "\n"
      ],
      "metadata": {
        "id": "d17uDQcSK95C"
      }
    },
    {
      "cell_type": "code",
      "source": [
        "def es_primo(numero):\n",
        "    if numero <= 1:\n",
        "        return False\n",
        "    elif numero <= 3:\n",
        "        return True\n",
        "    elif numero % 2 == 0 or numero % 3 == 0:\n",
        "        return False\n",
        "    else:\n",
        "        i = 5\n",
        "        while i * i <= numero:\n",
        "            if numero % i == 0 or numero % (i + 2) == 0:\n",
        "                return False\n",
        "            i += 6\n",
        "        return True\n",
        "\n",
        "numero = int(input(\"Ingrese un número: \"))\n",
        "if es_primo(numero):\n",
        "    print(f\"{numero} es un número primo\")\n",
        "else:\n",
        "    print(f\"{numero} no es un número primo\")"
      ],
      "metadata": {
        "id": "abdmc1kMKGUP",
        "colab": {
          "base_uri": "https://localhost:8080/"
        },
        "outputId": "eae88d4c-dda4-4c13-cca5-280781a7dc0d"
      },
      "execution_count": null,
      "outputs": [
        {
          "output_type": "stream",
          "name": "stdout",
          "text": [
            "Ingrese un número: 6\n",
            "6 no es un número primo\n"
          ]
        }
      ]
    },
    {
      "cell_type": "markdown",
      "source": [
        "7.Crea una lista de nombres y utiliza un bucle while para imprimir cada nombre hasta que encuentres el nombre \"Alex\".\n",
        "\n"
      ],
      "metadata": {
        "id": "Oi1zBi25LCE_"
      }
    },
    {
      "cell_type": "code",
      "source": [
        "nombres = [\"Ana\", \"Juan\", \"Pedro\",\"Federico\",\"Alex\", \"María\",\"Jose\"]\n",
        "indice = 0\n",
        "while indice < len(nombres) and nombres[indice] != \"Alex\":\n",
        "    print(nombres[indice])\n",
        "    indice += 1"
      ],
      "metadata": {
        "id": "LIurl_5PLbNJ",
        "outputId": "ad14d5d0-2a19-4d5a-8d45-da40b8c9c16c",
        "colab": {
          "base_uri": "https://localhost:8080/"
        }
      },
      "execution_count": null,
      "outputs": [
        {
          "output_type": "stream",
          "name": "stdout",
          "text": [
            "Ana\n",
            "Juan\n",
            "Pedro\n",
            "Federico\n"
          ]
        }
      ]
    },
    {
      "cell_type": "markdown",
      "source": [
        "8.Escribe una función invertir_cadena que tome una cadena como argumento y devuelva la cadena invertida.\n",
        "\n"
      ],
      "metadata": {
        "id": "1IlrI6K1LjeS"
      }
    },
    {
      "cell_type": "code",
      "source": [
        "def invertir_cadena(cadena):\n",
        "    return cadena[::-1]\n",
        "    cadena_original = \"1,2,3,4,5,6,7,8,9\"\n",
        "cadena_invertida = invertir_cadena(cadena_original)\n",
        "print(cadena_invertida)\n"
      ],
      "metadata": {
        "id": "uBzSlLUcMdGd",
        "outputId": "d88cbfc3-0ba5-450d-85be-b68896e7fa35",
        "colab": {
          "base_uri": "https://localhost:8080/"
        }
      },
      "execution_count": null,
      "outputs": [
        {
          "output_type": "stream",
          "name": "stdout",
          "text": [
            "9,8,7,6,5,4,3,2,1\n"
          ]
        }
      ]
    },
    {
      "cell_type": "markdown",
      "source": [
        "9.Crea una lista de números pares del 2 al 20 utilizando una comprensión de lista.\n",
        "\n"
      ],
      "metadata": {
        "id": "SVj1ETmRMrZu"
      }
    },
    {
      "cell_type": "code",
      "source": [
        "numeros_pares = [i for i in range(2, 21) if i % 2 == 0]\n",
        "print(numeros_pares)"
      ],
      "metadata": {
        "id": "VJ5Lc1-qMv3s",
        "outputId": "41071c31-7ac2-4c0f-8157-5ecfe52d4729",
        "colab": {
          "base_uri": "https://localhost:8080/"
        }
      },
      "execution_count": null,
      "outputs": [
        {
          "output_type": "stream",
          "name": "stdout",
          "text": [
            "[2, 4, 6, 8, 10, 12, 14, 16, 18, 20]\n"
          ]
        }
      ]
    },
    {
      "cell_type": "markdown",
      "source": [
        "10.Escribe un programa que genere los primeros n\n",
        " términos de la serie de Fibonacci a discresión del usuario.\n",
        "\n"
      ],
      "metadata": {
        "id": "8DGqtjgaM4bI"
      }
    },
    {
      "cell_type": "code",
      "source": [
        "def generar_fibonacci(n):\n",
        "    fib = []\n",
        "    a, b = 0, 1\n",
        "    for _ in range(n):\n",
        "        fib.append(a)\n",
        "        a, b = b, a + b\n",
        "    return fib\n",
        "\n",
        "n = int(input(\"Ingrese la cantidad de términos de la serie de Fibonacci que desea generar: \"))\n",
        "fibonacci = generar_fibonacci(n)\n",
        "print(f\"Los primeros {n} términos de la serie de Fibonacci son: {fibonacci}\")"
      ],
      "metadata": {
        "id": "2LLV8pWBM39E",
        "colab": {
          "base_uri": "https://localhost:8080/"
        },
        "outputId": "663735d4-a341-45fc-dbc5-df576972e118"
      },
      "execution_count": null,
      "outputs": [
        {
          "output_type": "stream",
          "name": "stdout",
          "text": [
            "Ingrese la cantidad de términos de la serie de Fibonacci que desea generar: 6\n",
            "Los primeros 6 términos de la serie de Fibonacci son: [0, 1, 1, 2, 3, 5]\n"
          ]
        }
      ]
    },
    {
      "cell_type": "markdown",
      "source": [
        "11.Escribe una función calcular_interes_simple que calcule el interés simple dado el principal, la tasa de interés y el tiempo en años."
      ],
      "metadata": {
        "id": "s5eWcwyHNNfY"
      }
    },
    {
      "cell_type": "code",
      "source": [
        "principal = 50000000\n",
        "tasa = 8\n",
        "tiempo = 6\n",
        "\n",
        "def calcular_interes_simple(principal, tasa, tiempo):\n",
        "    interes = (principal * tasa * tiempo) / 100\n",
        "    return interes\n",
        "\n",
        "interes_calculado = calcular_interes_simple(principal, tasa, tiempo)\n",
        "print(\"El interés simple es:\", interes_calculado)\n"
      ],
      "metadata": {
        "id": "pY3VskSBNS6a",
        "outputId": "dce93e02-eb09-403c-cbb4-bee147c6ead1",
        "colab": {
          "base_uri": "https://localhost:8080/"
        }
      },
      "execution_count": null,
      "outputs": [
        {
          "output_type": "stream",
          "name": "stdout",
          "text": [
            "El interés simple es: 24000000.0\n"
          ]
        }
      ]
    },
    {
      "cell_type": "markdown",
      "source": [
        "12.Crea una lista de precios de acciones. Utiliza una función para calcular el promedio de esos precios.\n",
        "\n"
      ],
      "metadata": {
        "id": "5QLDsDBpOT3U"
      }
    },
    {
      "cell_type": "code",
      "source": [
        "precios_acciones = [100, 115, 200, 250,300, 50, 20]\n",
        "\n",
        "def calcular_promedio(precios):\n",
        "    total = sum(precios)\n",
        "    promedio = total / len(precios)\n",
        "    return promedio\n",
        "\n",
        "promedio_precios = calcular_promedio(precios_acciones)\n",
        "print(\"El promedio de los precios de acciones es:\", promedio_precios)\n"
      ],
      "metadata": {
        "id": "AtgTzqV5OVVS",
        "outputId": "a96b42db-2d30-43fe-b5c2-00964e55a8a4",
        "colab": {
          "base_uri": "https://localhost:8080/"
        }
      },
      "execution_count": null,
      "outputs": [
        {
          "output_type": "stream",
          "name": "stdout",
          "text": [
            "El promedio de los precios de acciones es: 147.85714285714286\n"
          ]
        }
      ]
    },
    {
      "cell_type": "markdown",
      "source": [
        "13.Escribe una función convertir_dolares_a_euros que tome una cantidad en dólares y la convierta a euros (usando una tasa de cambio fija)."
      ],
      "metadata": {
        "id": "tErAAY4HOvT4"
      }
    },
    {
      "cell_type": "code",
      "source": [
        "cantidad_dolares = 230\n",
        "tasa_cambio = 0.91\n",
        "def convertir_dolares_a_euros(cantidad_dolares, tasa_cambio):\n",
        "    cantidad_euros = cantidad_dolares * tasa_cambio\n",
        "    return cantidad_euros\n",
        "\n",
        "cantidad_euros = convertir_dolares_a_euros(cantidad_dolares, tasa_cambio)\n",
        "print(f\"{cantidad_dolares} dólares equivale a {cantidad_euros} euros\")"
      ],
      "metadata": {
        "id": "M1fbtUyZO0QH",
        "outputId": "44b79156-f13a-4f7f-f8a7-6c0a38bade18",
        "colab": {
          "base_uri": "https://localhost:8080/"
        }
      },
      "execution_count": null,
      "outputs": [
        {
          "output_type": "stream",
          "name": "stdout",
          "text": [
            "230 dólares equivale a 209.3 euros\n"
          ]
        }
      ]
    },
    {
      "cell_type": "markdown",
      "source": [
        "14.Crea una función calcular_factorial que calcule el factorial de un número dado.\n",
        "\n"
      ],
      "metadata": {
        "id": "E122J3oxPsAD"
      }
    },
    {
      "cell_type": "code",
      "source": [
        "numero = 7\n",
        "def calcular_factorial(numero):\n",
        "    if numero == 0 or numero == 1:\n",
        "        return 1\n",
        "    else:\n",
        "        factorial = 1\n",
        "        for i in range(1, numero + 1):\n",
        "            factorial *= i\n",
        "        return factorial\n",
        "\n",
        "factorial_calculado = calcular_factorial(numero)\n",
        "print(f\"El factorial de {numero} es: {factorial_calculado}\")\n"
      ],
      "metadata": {
        "id": "VzFsMaOvPvb5",
        "outputId": "049e417c-1ae5-46c3-bd16-89ae07a16bd6",
        "colab": {
          "base_uri": "https://localhost:8080/"
        }
      },
      "execution_count": null,
      "outputs": [
        {
          "output_type": "stream",
          "name": "stdout",
          "text": [
            "El factorial de 7 es: 5040\n"
          ]
        }
      ]
    },
    {
      "cell_type": "markdown",
      "source": [
        "15.Define un diccionario que contenga los nombres y saldos de cuentas bancarias. Escribe una función que encuentre la cuenta con el saldo más alto."
      ],
      "metadata": {
        "id": "7tbvw6FbQIid"
      }
    },
    {
      "cell_type": "code",
      "source": [
        "\n",
        "cuentas_bancarias = {\"Pedro\": 6400, \"Juan\": 8900, \"Carla\": 7000, \"Federico\": 3000}\n",
        "\n",
        "def encontrar_cuenta_con_saldo_mas_alto(cuentas):\n",
        "    cuenta_maxima = max(cuentas, key=cuentas.get)\n",
        "    saldo_maximo = cuentas[cuenta_maxima]\n",
        "    return cuenta_maxima, saldo_maximo\n",
        "\n",
        "cuenta_con_saldo_mas_alto, saldo_mas_alto = encontrar_cuenta_con_saldo_mas_alto(cuentas_bancarias)\n",
        "print(f\"La cuenta con el saldo más alto es {cuenta_con_saldo_mas_alto} con un saldo de {saldo_mas_alto}\")\n"
      ],
      "metadata": {
        "id": "H6xCIbLgQKmA",
        "outputId": "24346f23-0f1b-462b-c3f8-8b601d906f82",
        "colab": {
          "base_uri": "https://localhost:8080/"
        }
      },
      "execution_count": null,
      "outputs": [
        {
          "output_type": "stream",
          "name": "stdout",
          "text": [
            "La cuenta con el saldo más alto es Juan con un saldo de 8900\n"
          ]
        }
      ]
    },
    {
      "cell_type": "markdown",
      "source": [
        "16.Escribe un programa que calcule e imprima los primeros n\n",
        " números triangulares a discresión del usuario."
      ],
      "metadata": {
        "id": "dsVrpy6UQkoV"
      }
    },
    {
      "cell_type": "code",
      "source": [
        "def calcular_numeros_triangulares(n):\n",
        "    numeros_triangulares = []\n",
        "    for i in range(1, n+1):\n",
        "        numero_triangular = (i * (i + 1)) // 2\n",
        "        numeros_triangulares.append(numero_triangular)\n",
        "    return numeros_triangulares\n",
        "\n",
        "n = int(input(\"Ingrese la cantidad de números triangulares que desea calcular: \"))\n",
        "triangulares = calcular_numeros_triangulares(n)\n",
        "print(f\"Los primeros {n} números triangulares son: {triangulares}\")"
      ],
      "metadata": {
        "id": "d7cv2JHpQ_cA",
        "colab": {
          "base_uri": "https://localhost:8080/"
        },
        "outputId": "38bfc4ab-5f34-4a2c-9513-4d13d25a1a23"
      },
      "execution_count": null,
      "outputs": [
        {
          "output_type": "stream",
          "name": "stdout",
          "text": [
            "Ingrese la cantidad de números triangulares que desea calcular: 9\n",
            "Los primeros 9 números triangulares son: [1, 3, 6, 10, 15, 21, 28, 36, 45]\n"
          ]
        }
      ]
    },
    {
      "cell_type": "markdown",
      "source": [
        "17.Crea una función calcular_descuento que calcule el precio final después de aplicar un descuento a un artículo.\n",
        "\n"
      ],
      "metadata": {
        "id": "Ks7ksgOiQ_5P"
      }
    },
    {
      "cell_type": "code",
      "source": [
        "precio_original = 300\n",
        "descuento = 15\n",
        "def calcular_descuento(precio_original, descuento):\n",
        "    precio_final = precio_original - (precio_original * descuento / 100)\n",
        "    return precio_final\n",
        "\n",
        "precio_final = calcular_descuento(precio_original, descuento)\n",
        "print(f\"El precio final después de aplicar un {descuento}% de descuento es: {precio_final}\")\n"
      ],
      "metadata": {
        "id": "3kx-Icq8RFA3",
        "outputId": "cba653cc-ff64-4c4c-8bdc-6d60ea867a90",
        "colab": {
          "base_uri": "https://localhost:8080/"
        }
      },
      "execution_count": null,
      "outputs": [
        {
          "output_type": "stream",
          "name": "stdout",
          "text": [
            "El precio final después de aplicar un 15% de descuento es: 255.0\n"
          ]
        }
      ]
    },
    {
      "cell_type": "markdown",
      "source": [
        "18.Escribe una función que tome una lista de números y devuelva una nueva lista con solo los números pares.\n",
        "\n"
      ],
      "metadata": {
        "id": "7gShim3qREZ7"
      }
    },
    {
      "cell_type": "code",
      "source": [
        "numeros = [1, 2, 3, 4, 5, 6, 7, 8, 9, 10,11,12,13,14,15,16,17,18,19,20]\n",
        "def obtener_numeros_pares(lista):\n",
        "    numeros_pares = [numero for numero in lista if numero % 2 == 0]\n",
        "    return numeros_pares\n",
        "\n",
        "numeros_pares = obtener_numeros_pares(numeros)\n",
        "print(f\"Los números pares en la lista son: {numeros_pares}\")\n"
      ],
      "metadata": {
        "id": "HJ_2vihqRXDg",
        "outputId": "5bf4d244-5009-43bb-9952-f7ab76a79021",
        "colab": {
          "base_uri": "https://localhost:8080/"
        }
      },
      "execution_count": null,
      "outputs": [
        {
          "output_type": "stream",
          "name": "stdout",
          "text": [
            "Los números pares en la lista son: [2, 4, 6, 8, 10, 12, 14, 16, 18, 20]\n"
          ]
        }
      ]
    },
    {
      "cell_type": "markdown",
      "source": [
        "19.Crea una lista de números y utiliza una función para encontrar el número más grande y el más pequeño.\n",
        "\n"
      ],
      "metadata": {
        "id": "19FptfY7R1AN"
      }
    },
    {
      "cell_type": "code",
      "source": [
        "numeros = [10, 5, 8, 20, 3, 15,35,2,6,7,90]\n",
        "def encontrar_maximo_minimo(lista):\n",
        "    maximo = max(lista)\n",
        "    minimo = min(lista)\n",
        "    return maximo, minimo\n",
        "\n",
        "numero_maximo, numero_minimo = encontrar_maximo_minimo(numeros)\n",
        "\n",
        "print(f\"El número más grande en la lista es: {numero_maximo}\")\n",
        "print(f\"El número más pequeño en la lista es: {numero_minimo}\")\n"
      ],
      "metadata": {
        "id": "Z_8YOslXRzkg",
        "outputId": "e3c3023f-59c3-4ad2-8e57-e9a396eb7d18",
        "colab": {
          "base_uri": "https://localhost:8080/"
        }
      },
      "execution_count": null,
      "outputs": [
        {
          "output_type": "stream",
          "name": "stdout",
          "text": [
            "El número más grande en la lista es: 90\n",
            "El número más pequeño en la lista es: 2\n"
          ]
        }
      ]
    },
    {
      "cell_type": "markdown",
      "source": [
        "20.Escribe un programa que genere e imprima los primeros n\n",
        " términos de la secuencia de números de Pell a discresión del usuario."
      ],
      "metadata": {
        "id": "J6X6RBvIStcC"
      }
    },
    {
      "cell_type": "code",
      "source": [
        "def calcular_numeros_pell(n):\n",
        "    numeros_pell = [0, 1]  # Inicializamos los primeros dos términos de la secuencia\n",
        "\n",
        "    for i in range(2, n):\n",
        "        numeros_pell.append(2 * numeros_pell[i-1] + numeros_pell[i-2])\n",
        "\n",
        "    return numeros_pell[:n]\n",
        "\n",
        "n = int(input(\"Ingrese la cantidad de términos de la secuencia de números de Pell que desea generar: \"))\n",
        "numeros_pell = calcular_numeros_pell(n)\n",
        "print(f\"Los primeros {n} términos de la secuencia de números de Pell son: {numeros_pell}\")"
      ],
      "metadata": {
        "id": "f0DrC8aGT24e",
        "colab": {
          "base_uri": "https://localhost:8080/"
        },
        "outputId": "a0df9ce6-173d-4e9c-e386-2e877109712b"
      },
      "execution_count": null,
      "outputs": [
        {
          "output_type": "stream",
          "name": "stdout",
          "text": [
            "Ingrese la cantidad de términos de la secuencia de números de Pell que desea generar: 7\n",
            "Los primeros 7 términos de la secuencia de números de Pell son: [0, 1, 2, 5, 12, 29, 70]\n"
          ]
        }
      ]
    },
    {
      "cell_type": "markdown",
      "source": [
        "21.Crea una función calcular_amortizacion que calcule la amortización de un préstamo a lo largo del tiempo.\n",
        "\n"
      ],
      "metadata": {
        "id": "FIq25G-CUwpm"
      }
    },
    {
      "cell_type": "code",
      "source": [
        "monto = 100000\n",
        "tasa = 5\n",
        "periodos = 8\n",
        "def calcular_amortizacion(monto_prestamo, tasa_interes, periodos):\n",
        "    tasa_interes_decimal = tasa_interes / 100\n",
        "    amortizacion = monto_prestamo * (tasa_interes_decimal * ((1 + tasa_interes_decimal) ** periodos)) / (((1 + tasa_interes_decimal) ** periodos) - 1)\n",
        "    return amortizacion\n",
        "\n",
        "amortizacion_mensual = calcular_amortizacion(monto, tasa, periodos)\n",
        "print(f\"La amortización mensual es: {amortizacion_mensual}\")\n"
      ],
      "metadata": {
        "colab": {
          "base_uri": "https://localhost:8080/"
        },
        "id": "oSN_bIawUwTQ",
        "outputId": "82160c60-3744-4713-a72f-89e1aa5493fa"
      },
      "execution_count": null,
      "outputs": [
        {
          "output_type": "stream",
          "name": "stdout",
          "text": [
            "La amortización mensual es: 15472.181362768104\n"
          ]
        }
      ]
    },
    {
      "cell_type": "markdown",
      "source": [
        "22.Escribe un programa que determine si un número dado es un número perfecto o no.\n",
        "\n"
      ],
      "metadata": {
        "id": "2BoENsbyVGul"
      }
    },
    {
      "cell_type": "code",
      "source": [
        "def es_numero_perfecto(numero):\n",
        "    suma_divisores = 0\n",
        "    for i in range(1, numero):\n",
        "        if numero % i == 0:\n",
        "            suma_divisores += i\n",
        "    return suma_divisores == numero\n",
        "\n",
        "numero = (12)\n",
        "\n",
        "if es_numero_perfecto(numero):\n",
        "    print(f\"El número {numero} es un número perfecto.\")\n",
        "else:\n",
        "    print(f\"El número {numero} NO es un número perfecto.\")\n"
      ],
      "metadata": {
        "colab": {
          "base_uri": "https://localhost:8080/"
        },
        "id": "0YGKwht4VKnj",
        "outputId": "bd2f2eed-2a1c-4d3a-ceb0-f757e41e833e"
      },
      "execution_count": null,
      "outputs": [
        {
          "output_type": "stream",
          "name": "stdout",
          "text": [
            "El número 12 NO es un número perfecto.\n"
          ]
        }
      ]
    },
    {
      "cell_type": "markdown",
      "source": [
        "23.Define un diccionario que almacene las tasas de interés para diferentes tipos de préstamos. Pide al usuario que ingrese un tipo de préstamo y muestra la tasa de interés correspondiente."
      ],
      "metadata": {
        "id": "gmDxKWtFVZBG"
      }
    },
    {
      "cell_type": "code",
      "source": [
        "tasas_interes = {\n",
        "    \"personal\": 10.5,\n",
        "    \"hipotecario\": 8.2,\n",
        "    \"automotriz\": 7.9,\n",
        "    \"educativo\": 6.5,\n",
        "    \"comercial\": 9.8}\n",
        "\n",
        "tipo_prestamo = input(\"Ingrese el tipo de préstamo: \")\n",
        "\n",
        "if tipo_prestamo in tasas_interes:\n",
        "    tasa_interes = tasas_interes[tipo_prestamo]\n",
        "    print(f\"La tasa de interés para el préstamo {tipo_prestamo} es del {tasa_interes}%\")\n",
        "else:\n",
        "    print(\"El tipo de préstamo ingresado no está en el diccionario de tasas de interés.\")"
      ],
      "metadata": {
        "id": "GWN9P2_QVhsB",
        "colab": {
          "base_uri": "https://localhost:8080/"
        },
        "outputId": "337d04f4-de9f-45e6-a02f-f8a1aa1ff5b8"
      },
      "execution_count": null,
      "outputs": [
        {
          "output_type": "stream",
          "name": "stdout",
          "text": [
            "Ingrese el tipo de préstamo: personal\n",
            "La tasa de interés para el préstamo personal es del 10.5%\n"
          ]
        }
      ]
    },
    {
      "cell_type": "markdown",
      "source": [
        "24.Escribe una función calcular_media_geometrica que calcule la media geométrica de una lista de números.\n",
        "\n"
      ],
      "metadata": {
        "id": "WmL6HIiOVoVy"
      }
    },
    {
      "cell_type": "code",
      "source": [
        "def calcular_media_geometrica(lista):\n",
        "    producto = 1\n",
        "    for numero in lista:\n",
        "        producto *= numero\n",
        "    media_geometrica = producto ** (1 / len(lista))\n",
        "    return media_geometrica\n",
        "\n",
        "numeros = [2, 4, 8, 16]\n",
        "media = calcular_media_geometrica(numeros)\n",
        "print(f\"La media geométrica de la lista es: {media}\")\n"
      ],
      "metadata": {
        "colab": {
          "base_uri": "https://localhost:8080/"
        },
        "id": "c--4dVm9VpUA",
        "outputId": "345ab791-8630-48c2-f824-844ad7997b54"
      },
      "execution_count": null,
      "outputs": [
        {
          "output_type": "stream",
          "name": "stdout",
          "text": [
            "La media geométrica de la lista es: 5.656854249492381\n"
          ]
        }
      ]
    },
    {
      "cell_type": "markdown",
      "source": [
        "25.Crea una lista de números y utiliza una función para encontrar el segundo número más grande.\n",
        "\n"
      ],
      "metadata": {
        "id": "IzRQViR0V2Nu"
      }
    },
    {
      "cell_type": "code",
      "source": [
        "def segundo_mas_grande(lista):\n",
        "    if len(lista) < 2:\n",
        "        return \"La lista debe contener al menos dos números.\"\n",
        "    maximo = max(lista[0], lista[1])\n",
        "    segundo_maximo = min(lista[0], lista[1])\n",
        "    for numero in lista[2:]:\n",
        "        if numero > maximo:\n",
        "            segundo_maximo = maximo\n",
        "            maximo = numero\n",
        "        elif numero > segundo_maximo:\n",
        "            segundo_maximo = numero\n",
        "    return segundo_maximo\n",
        "\n",
        "numeros = [10, 5, 8, 20, 15]\n",
        "segundo_max = segundo_mas_grande(numeros)\n",
        "print(f\"El segundo número más grande en la lista es: {segundo_max}\")\n"
      ],
      "metadata": {
        "colab": {
          "base_uri": "https://localhost:8080/"
        },
        "id": "P9UPMQZ9V6mf",
        "outputId": "900f9eee-d567-4f3b-c626-e0fdbe75a64a"
      },
      "execution_count": null,
      "outputs": [
        {
          "output_type": "stream",
          "name": "stdout",
          "text": [
            "El segundo número más grande en la lista es: 15\n"
          ]
        }
      ]
    },
    {
      "cell_type": "markdown",
      "source": [
        "26.Escribe un programa que calcule e imprima los primeros\n",
        " números de la serie de los números de Lucas a discresión del usuario."
      ],
      "metadata": {
        "id": "hK-KJfvZWJcH"
      }
    },
    {
      "cell_type": "code",
      "source": [
        "def calcular_numeros_lucas(n):\n",
        "    numeros_lucas = [2, 1]\n",
        "    for i in range(2, n):\n",
        "        numeros_lucas.append(numeros_lucas[i-1] + numeros_lucas[i-2])\n",
        "\n",
        "    return numeros_lucas[:n]\n",
        "\n",
        "n = int(input(\"Ingrese la cantidad de números de la serie de Lucas que desea calcular: \"))\n",
        "numeros_lucas = calcular_numeros_lucas(n)\n",
        "print(f\"Los primeros {n} números de la serie de Lucas son: {numeros_lucas}\")"
      ],
      "metadata": {
        "id": "Rz_pxqUXWM43",
        "colab": {
          "base_uri": "https://localhost:8080/"
        },
        "outputId": "39c67d34-93bd-47e2-db1d-8978e882ea0e"
      },
      "execution_count": null,
      "outputs": [
        {
          "output_type": "stream",
          "name": "stdout",
          "text": [
            "Ingrese la cantidad de números de la serie de Lucas que desea calcular: 4\n",
            "Los primeros 4 números de la serie de Lucas son: [2, 1, 3, 4]\n"
          ]
        }
      ]
    },
    {
      "cell_type": "markdown",
      "source": [
        "27.Crea una función calcular_cuota_mensual que calcule la cuota mensual de un préstamo hipotecario.\n",
        "\n"
      ],
      "metadata": {
        "id": "wFX6V_mDZOOP"
      }
    },
    {
      "cell_type": "code",
      "source": [
        "def calcular_cuota_mensual(monto, tem, n):\n",
        "    cuota = (monto * (tem * (1 + tem) ** n)) / ((1 + tem) ** n - 1)\n",
        "    return cuota\n",
        "\n",
        "monto_prestamo = 200000\n",
        "tasa_interes_mensual = 0.008\n",
        "num_pagos = 360\n",
        "\n",
        "cuota_mensual = calcular_cuota_mensual(monto_prestamo, tasa_interes_mensual, num_pagos)\n",
        "print(\"La cuota mensual del préstamo es: $\", round(cuota_mensual, 2))\n"
      ],
      "metadata": {
        "id": "S4uwXk2lYLg8",
        "colab": {
          "base_uri": "https://localhost:8080/"
        },
        "outputId": "cfb8f472-e249-4959-dee0-5f29d6be65a7"
      },
      "execution_count": null,
      "outputs": [
        {
          "output_type": "stream",
          "name": "stdout",
          "text": [
            "La cuota mensual del préstamo es: $ 1696.32\n"
          ]
        }
      ]
    },
    {
      "cell_type": "markdown",
      "source": [
        "28.Escribe una función que determine si un número es un número de Armstrong (un número de n dígitos que es igual a la suma de sus dígitos elevados a la n).\n",
        "\n"
      ],
      "metadata": {
        "id": "x7JwT54aZS9-"
      }
    },
    {
      "cell_type": "code",
      "source": [
        "def es_numero_armstrong(numero):\n",
        "    num_str = str(numero)\n",
        "    n = len(num_str)\n",
        "    suma = 0\n",
        "    for digito in num_str:\n",
        "        suma += int(digito) ** n\n",
        "    return suma == numero\n",
        "\n",
        "numero = 153\n",
        "if es_numero_armstrong(numero):\n",
        "    print(numero, \"es un número de Armstrong\")\n",
        "else:\n",
        "    print(numero, \"no es un número de Armstrong\")\n"
      ],
      "metadata": {
        "colab": {
          "base_uri": "https://localhost:8080/"
        },
        "id": "LZh3YuP5Z8If",
        "outputId": "8a94ae54-7cd4-4eb4-9010-4101daf278f8"
      },
      "execution_count": null,
      "outputs": [
        {
          "output_type": "stream",
          "name": "stdout",
          "text": [
            "153 es un número de Armstrong\n"
          ]
        }
      ]
    },
    {
      "cell_type": "markdown",
      "source": [
        "29.Define un diccionario que almacene los símbolos de moneda y sus respectivos códigos. Escribe un programa que convierta una cantidad de dinero de una moneda a otra.\n",
        "\n"
      ],
      "metadata": {
        "id": "GCL0WwtMZV0y"
      }
    },
    {
      "cell_type": "code",
      "source": [
        "tasas_cambio = {\n",
        "    \"USD\": 1.0,  # Dólar estadounidense\n",
        "    \"EUR\": 0.84,  # Euro\n",
        "    \"JPY\": 109.96,  # Yen japonés\n",
        "    \"GBP\": 0.72,  # Libra esterlina\n",
        "    \"AUD\": 1.29,  # Dólar australiano\n",
        "    \"CAD\": 1.25,  # Dólar canadiense\n",
        "    \"CHF\": 0.91,  # Franco suizo\n",
        "    \"CLP\": 777.12  # Peso chileno\n",
        "    }\n",
        "\n",
        "cantidad = float(input(\"Ingrese la cantidad de dinero: \"))\n",
        "moneda_origen = input(\"Ingrese la moneda de origen: \")\n",
        "moneda_destino = input(\"Ingrese la moneda de destino: \")\n",
        "\n",
        "if moneda_origen in tasas_cambio and moneda_destino in tasas_cambio:\n",
        "    tasa_origen = tasas_cambio[moneda_origen]\n",
        "    tasa_destino = tasas_cambio[moneda_destino]\n",
        "    cantidad_convertida = cantidad * (tasa_destino / tasa_origen)\n",
        "    print(f\"{cantidad} {moneda_origen} equivale a {cantidad_convertida} {moneda_destino}\")\n",
        "else:\n",
        "    print(\"Las monedas ingresadas no están en el diccionario de tasas de cambio.\")"
      ],
      "metadata": {
        "colab": {
          "base_uri": "https://localhost:8080/"
        },
        "id": "iazYSe69bXoG",
        "outputId": "d0b14315-1398-4ee0-c61a-ffe4e6efef85"
      },
      "execution_count": null,
      "outputs": [
        {
          "output_type": "stream",
          "name": "stdout",
          "text": [
            "Ingrese la cantidad de dinero: 0.98\n",
            "Ingrese la moneda de origen: USD\n",
            "Ingrese la moneda de destino: CHF\n",
            "0.98 USD equivale a 0.8918 CHF\n"
          ]
        }
      ]
    },
    {
      "cell_type": "markdown",
      "source": [
        "30.Crea una función que calcule la desviación estándar de una lista de números."
      ],
      "metadata": {
        "id": "8-UMyJ_ZZYaW"
      }
    },
    {
      "cell_type": "code",
      "source": [
        "import math\n",
        "\n",
        "def calcular_desviacion_estandar(lista):\n",
        "    n = len(lista)\n",
        "    media = sum(lista) / n\n",
        "    suma_cuadrados = sum((x - media) ** 2 for x in lista)\n",
        "    varianza = suma_cuadrados / n\n",
        "    desviacion_estandar = math.sqrt(varianza)\n",
        "    return desviacion_estandar\n",
        "\n",
        "numeros = [2, 4, 6, 8, 10]\n",
        "desviacion = calcular_desviacion_estandar(numeros)\n",
        "print(f\"La desviación estándar de la lista {numeros} es: {desviacion}\")"
      ],
      "metadata": {
        "colab": {
          "base_uri": "https://localhost:8080/"
        },
        "id": "AWJt7yq9bpK2",
        "outputId": "80cd78f0-702b-421f-8d33-b1e790fa34aa"
      },
      "execution_count": null,
      "outputs": [
        {
          "output_type": "stream",
          "name": "stdout",
          "text": [
            "La desviación estándar de la lista [2, 4, 6, 8, 10] es: 2.8284271247461903\n"
          ]
        }
      ]
    }
  ]
}